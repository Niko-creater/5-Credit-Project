{
 "cells": [
  {
   "cell_type": "code",
   "execution_count": null,
   "id": "773ec059",
   "metadata": {},
   "outputs": [],
   "source": "# !pip install rerun-sdk vrs opencv-python numpy"
  },
  {
   "metadata": {
    "ExecuteTime": {
     "end_time": "2025-07-03T08:56:49.775319Z",
     "start_time": "2025-07-03T08:56:45.948247Z"
    }
   },
   "cell_type": "code",
   "source": "!pip install -U \"rerun-sdk[notebook]\"",
   "id": "712f05c986121611",
   "outputs": [
    {
     "name": "stdout",
     "output_type": "stream",
     "text": [
      "Requirement already satisfied: rerun-sdk[notebook] in /home/peiyu/venv/lib/python3.10/site-packages (0.24.0a5)\r\n",
      "Requirement already satisfied: attrs>=23.1.0 in /home/peiyu/venv/lib/python3.10/site-packages (from rerun-sdk[notebook]) (25.3.0)\r\n",
      "Requirement already satisfied: pyarrow>=18.0.0 in /home/peiyu/venv/lib/python3.10/site-packages (from rerun-sdk[notebook]) (20.0.0)\r\n",
      "Requirement already satisfied: typing-extensions>=4.5 in /home/peiyu/venv/lib/python3.10/site-packages (from rerun-sdk[notebook]) (4.14.0)\r\n",
      "Requirement already satisfied: numpy>=2 in /home/peiyu/venv/lib/python3.10/site-packages (from rerun-sdk[notebook]) (2.2.6)\r\n",
      "Requirement already satisfied: pillow>=8.0.0 in /home/peiyu/venv/lib/python3.10/site-packages (from rerun-sdk[notebook]) (11.2.1)\r\n",
      "Collecting rerun-notebook==0.24.0a5\r\n",
      "  Downloading rerun_notebook-0.24.0a5-py2.py3-none-any.whl (11.4 MB)\r\n",
      "\u001B[2K     \u001B[90m━━━━━━━━━━━━━━━━━━━━━━━━━━━━━━━━━━━━━━━━\u001B[0m \u001B[32m11.4/11.4 MB\u001B[0m \u001B[31m12.6 MB/s\u001B[0m eta \u001B[36m0:00:00\u001B[0m00:01\u001B[0m00:01\u001B[0m\r\n",
      "\u001B[?25hRequirement already satisfied: anywidget in /home/peiyu/venv/lib/python3.10/site-packages (from rerun-notebook==0.24.0a5->rerun-sdk[notebook]) (0.9.18)\r\n",
      "Requirement already satisfied: jupyter-ui-poll in /home/peiyu/venv/lib/python3.10/site-packages (from rerun-notebook==0.24.0a5->rerun-sdk[notebook]) (1.0.0)\r\n",
      "Requirement already satisfied: psygnal>=0.8.1 in /home/peiyu/venv/lib/python3.10/site-packages (from anywidget->rerun-notebook==0.24.0a5->rerun-sdk[notebook]) (0.13.0)\r\n",
      "Requirement already satisfied: ipywidgets>=7.6.0 in /home/peiyu/venv/lib/python3.10/site-packages (from anywidget->rerun-notebook==0.24.0a5->rerun-sdk[notebook]) (8.1.7)\r\n",
      "Requirement already satisfied: ipython in /home/peiyu/venv/lib/python3.10/site-packages (from jupyter-ui-poll->rerun-notebook==0.24.0a5->rerun-sdk[notebook]) (8.37.0)\r\n",
      "Requirement already satisfied: jupyterlab_widgets~=3.0.15 in /home/peiyu/venv/lib/python3.10/site-packages (from ipywidgets>=7.6.0->anywidget->rerun-notebook==0.24.0a5->rerun-sdk[notebook]) (3.0.15)\r\n",
      "Requirement already satisfied: comm>=0.1.3 in /home/peiyu/venv/lib/python3.10/site-packages (from ipywidgets>=7.6.0->anywidget->rerun-notebook==0.24.0a5->rerun-sdk[notebook]) (0.2.2)\r\n",
      "Requirement already satisfied: traitlets>=4.3.1 in /home/peiyu/venv/lib/python3.10/site-packages (from ipywidgets>=7.6.0->anywidget->rerun-notebook==0.24.0a5->rerun-sdk[notebook]) (5.14.3)\r\n",
      "Requirement already satisfied: widgetsnbextension~=4.0.14 in /home/peiyu/venv/lib/python3.10/site-packages (from ipywidgets>=7.6.0->anywidget->rerun-notebook==0.24.0a5->rerun-sdk[notebook]) (4.0.14)\r\n",
      "Requirement already satisfied: decorator in /home/peiyu/venv/lib/python3.10/site-packages (from ipython->jupyter-ui-poll->rerun-notebook==0.24.0a5->rerun-sdk[notebook]) (5.2.1)\r\n",
      "Requirement already satisfied: exceptiongroup in /home/peiyu/venv/lib/python3.10/site-packages (from ipython->jupyter-ui-poll->rerun-notebook==0.24.0a5->rerun-sdk[notebook]) (1.3.0)\r\n",
      "Requirement already satisfied: matplotlib-inline in /home/peiyu/venv/lib/python3.10/site-packages (from ipython->jupyter-ui-poll->rerun-notebook==0.24.0a5->rerun-sdk[notebook]) (0.1.7)\r\n",
      "Requirement already satisfied: jedi>=0.16 in /home/peiyu/venv/lib/python3.10/site-packages (from ipython->jupyter-ui-poll->rerun-notebook==0.24.0a5->rerun-sdk[notebook]) (0.19.2)\r\n",
      "Requirement already satisfied: prompt_toolkit<3.1.0,>=3.0.41 in /home/peiyu/venv/lib/python3.10/site-packages (from ipython->jupyter-ui-poll->rerun-notebook==0.24.0a5->rerun-sdk[notebook]) (3.0.51)\r\n",
      "Requirement already satisfied: pexpect>4.3 in /home/peiyu/venv/lib/python3.10/site-packages (from ipython->jupyter-ui-poll->rerun-notebook==0.24.0a5->rerun-sdk[notebook]) (4.9.0)\r\n",
      "Requirement already satisfied: stack_data in /home/peiyu/venv/lib/python3.10/site-packages (from ipython->jupyter-ui-poll->rerun-notebook==0.24.0a5->rerun-sdk[notebook]) (0.6.3)\r\n",
      "Requirement already satisfied: pygments>=2.4.0 in /home/peiyu/venv/lib/python3.10/site-packages (from ipython->jupyter-ui-poll->rerun-notebook==0.24.0a5->rerun-sdk[notebook]) (2.19.1)\r\n",
      "Requirement already satisfied: parso<0.9.0,>=0.8.4 in /home/peiyu/venv/lib/python3.10/site-packages (from jedi>=0.16->ipython->jupyter-ui-poll->rerun-notebook==0.24.0a5->rerun-sdk[notebook]) (0.8.4)\r\n",
      "Requirement already satisfied: ptyprocess>=0.5 in /home/peiyu/venv/lib/python3.10/site-packages (from pexpect>4.3->ipython->jupyter-ui-poll->rerun-notebook==0.24.0a5->rerun-sdk[notebook]) (0.7.0)\r\n",
      "Requirement already satisfied: wcwidth in /home/peiyu/venv/lib/python3.10/site-packages (from prompt_toolkit<3.1.0,>=3.0.41->ipython->jupyter-ui-poll->rerun-notebook==0.24.0a5->rerun-sdk[notebook]) (0.2.13)\r\n",
      "Requirement already satisfied: asttokens>=2.1.0 in /home/peiyu/venv/lib/python3.10/site-packages (from stack_data->ipython->jupyter-ui-poll->rerun-notebook==0.24.0a5->rerun-sdk[notebook]) (3.0.0)\r\n",
      "Requirement already satisfied: executing>=1.2.0 in /home/peiyu/venv/lib/python3.10/site-packages (from stack_data->ipython->jupyter-ui-poll->rerun-notebook==0.24.0a5->rerun-sdk[notebook]) (2.2.0)\r\n",
      "Requirement already satisfied: pure-eval in /home/peiyu/venv/lib/python3.10/site-packages (from stack_data->ipython->jupyter-ui-poll->rerun-notebook==0.24.0a5->rerun-sdk[notebook]) (0.2.3)\r\n",
      "Installing collected packages: rerun-notebook\r\n",
      "  Attempting uninstall: rerun-notebook\r\n",
      "    Found existing installation: rerun-notebook 0.23.3\r\n",
      "    Uninstalling rerun-notebook-0.23.3:\r\n",
      "      Successfully uninstalled rerun-notebook-0.23.3\r\n",
      "Successfully installed rerun-notebook-0.24.0a5\r\n"
     ]
    }
   ],
   "execution_count": 1
  },
  {
   "cell_type": "code",
   "id": "2ffe1d2f",
   "metadata": {
    "ExecuteTime": {
     "end_time": "2025-07-03T09:11:51.997364Z",
     "start_time": "2025-07-03T09:11:51.992653Z"
    }
   },
   "source": [
    "%gui tk"
   ],
   "outputs": [],
   "execution_count": 1
  },
  {
   "cell_type": "code",
   "id": "34db493a",
   "metadata": {
    "ExecuteTime": {
     "end_time": "2025-07-03T09:28:09.019117Z",
     "start_time": "2025-07-03T09:28:08.949524Z"
    }
   },
   "source": [
    "import time\n",
    "from pathlib import Path\n",
    "\n",
    "import cv2\n",
    "import numpy as np\n",
    "import rerun as rr\n",
    "from pyvrs.reader import SyncVRSReader\n",
    "\n",
    "\n",
    "def play_vrs_realtime(\n",
    "    vrs_path: str | Path = \"/home/peiyu/Projects/MR/vrs_2025_06_05/person_a.vrs\",\n",
    "    rgb_sid: str = \"214-1\",\n",
    "    resize_to: tuple[int, int] | None = (960, 540),\n",
    "    rotate_90: bool = True,\n",
    "    play_speed: float = 1.0,          \n",
    "    max_sec: float | None = None,     \n",
    "):\n",
    "    vrs_path = Path(vrs_path).expanduser()\n",
    "    if not vrs_path.exists():\n",
    "        raise FileNotFoundError(vrs_path)\n",
    "\n",
    "    rr.init(\"vrs_live_stream\")\n",
    "    rr.spawn(title=\"VRS Live Viewer\", memory_limit=\"4GB\")   \n",
    "\n",
    "    reader     = SyncVRSReader(str(vrs_path))\n",
    "    cam_stream = reader.filtered_by_fields(stream_ids=rgb_sid, record_types=\"data\")\n",
    "\n",
    "    first_ts = None            \n",
    "    wall0    = time.time()    \n",
    "\n",
    "    try:\n",
    "        for rec in cam_stream:\n",
    "            if first_ts is None:\n",
    "                first_ts = rec.timestamp\n",
    "            rel_stream_sec = (rec.timestamp - first_ts) / play_speed\n",
    "            rel_wall_sec   = time.time() - wall0\n",
    "            ahead = rel_stream_sec - rel_wall_sec\n",
    "            if ahead > 0:\n",
    "                time.sleep(ahead)         \n",
    "\n",
    "            if max_sec and rel_stream_sec > max_sec:\n",
    "                break\n",
    "\n",
    "            buf = rec.image_blocks[0]\n",
    "            img_bgr = cv2.imdecode(np.frombuffer(buf, np.uint8), cv2.IMREAD_COLOR)\n",
    "            if img_bgr is None:\n",
    "                continue\n",
    "\n",
    "            img = cv2.cvtColor(img_bgr, cv2.COLOR_BGR2RGB)\n",
    "            if rotate_90:\n",
    "                img = cv2.rotate(img, cv2.ROTATE_90_CLOCKWISE)\n",
    "            if resize_to:\n",
    "                img = cv2.resize(img, resize_to, interpolation=cv2.INTER_LINEAR)\n",
    "\n",
    "            rr.set_time(\n",
    "                timeline=\"rel_time_us\",\n",
    "                timestamp=int(rel_stream_sec * 1e6)\n",
    "            )\n",
    "            rr.log(\"cam/frame\", rr.Image(img))\n",
    "\n",
    "    except KeyboardInterrupt:\n",
    "        print(\"Stop\")\n",
    "\n",
    "    print(\"Play End\")\n",
    "\n",
    "\n",
    "play_vrs_realtime()"
   ],
   "outputs": [
    {
     "ename": "TypeError",
     "evalue": "spawn() got an unexpected keyword argument 'title'",
     "output_type": "error",
     "traceback": [
      "\u001B[0;31m---------------------------------------------------------------------------\u001B[0m",
      "\u001B[0;31mTypeError\u001B[0m                                 Traceback (most recent call last)",
      "Cell \u001B[0;32mIn[7], line 81\u001B[0m\n\u001B[1;32m     76\u001B[0m         \u001B[38;5;28mprint\u001B[39m(\u001B[38;5;124m\"\u001B[39m\u001B[38;5;124m⏹️  中断播放。\u001B[39m\u001B[38;5;124m\"\u001B[39m)\n\u001B[1;32m     78\u001B[0m     \u001B[38;5;28mprint\u001B[39m(\u001B[38;5;124m\"\u001B[39m\u001B[38;5;124m✅ 播放结束\u001B[39m\u001B[38;5;124m\"\u001B[39m)\n\u001B[0;32m---> 81\u001B[0m \u001B[43mplay_vrs_realtime\u001B[49m\u001B[43m(\u001B[49m\u001B[43m)\u001B[49m\n",
      "Cell \u001B[0;32mIn[7], line 29\u001B[0m, in \u001B[0;36mplay_vrs_realtime\u001B[0;34m(vrs_path, rgb_sid, resize_to, rotate_90, play_speed, max_sec)\u001B[0m\n\u001B[1;32m     27\u001B[0m \u001B[38;5;66;03m# 1) 初始化 Rerun + 弹窗\u001B[39;00m\n\u001B[1;32m     28\u001B[0m rr\u001B[38;5;241m.\u001B[39minit(\u001B[38;5;124m\"\u001B[39m\u001B[38;5;124mvrs_live_stream\u001B[39m\u001B[38;5;124m\"\u001B[39m)\n\u001B[0;32m---> 29\u001B[0m \u001B[43mrr\u001B[49m\u001B[38;5;241;43m.\u001B[39;49m\u001B[43mspawn\u001B[49m\u001B[43m(\u001B[49m\u001B[43mtitle\u001B[49m\u001B[38;5;241;43m=\u001B[39;49m\u001B[38;5;124;43m\"\u001B[39;49m\u001B[38;5;124;43mVRS Live Viewer\u001B[39;49m\u001B[38;5;124;43m\"\u001B[39;49m\u001B[43m,\u001B[49m\u001B[43m \u001B[49m\u001B[43mmemory_limit\u001B[49m\u001B[38;5;241;43m=\u001B[39;49m\u001B[38;5;124;43m\"\u001B[39;49m\u001B[38;5;124;43m4GB\u001B[39;49m\u001B[38;5;124;43m\"\u001B[39;49m\u001B[43m)\u001B[49m   \u001B[38;5;66;03m# 独立窗口，实时刷新\u001B[39;00m\n\u001B[1;32m     31\u001B[0m \u001B[38;5;66;03m# 2) 打开 VRS\u001B[39;00m\n\u001B[1;32m     32\u001B[0m reader     \u001B[38;5;241m=\u001B[39m SyncVRSReader(\u001B[38;5;28mstr\u001B[39m(vrs_path))\n",
      "\u001B[0;31mTypeError\u001B[0m: spawn() got an unexpected keyword argument 'title'"
     ]
    }
   ],
   "execution_count": 7
  },
  {
   "metadata": {
    "ExecuteTime": {
     "end_time": "2025-07-03T09:20:28.082647Z",
     "start_time": "2025-07-03T09:20:28.080823Z"
    }
   },
   "cell_type": "code",
   "source": "",
   "id": "acdfeeb501546292",
   "outputs": [],
   "execution_count": null
  },
  {
   "metadata": {},
   "cell_type": "code",
   "outputs": [],
   "execution_count": null,
   "source": "",
   "id": "18690f3c6fb4ea5"
  }
 ],
 "metadata": {
  "kernelspec": {
   "display_name": "Python 3",
   "language": "python",
   "name": "python3"
  }
 },
 "nbformat": 4,
 "nbformat_minor": 5
}
